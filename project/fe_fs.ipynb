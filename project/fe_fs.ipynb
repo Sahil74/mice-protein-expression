{
 "cells": [
  {
   "cell_type": "code",
   "execution_count": 8,
   "source": [
    "import pandas as pd\r\n",
    "import numpy as np\r\n",
    "import matplotlib.pyplot as plt\r\n",
    "# to visualise al the columns in the dataframe\r\n",
    "pd.pandas.set_option('display.max_columns', None)"
   ],
   "outputs": [],
   "metadata": {}
  },
  {
   "cell_type": "code",
   "execution_count": 9,
   "source": [
    "df = pd.read_excel('data\\Data_Cortex_Nuclear.xls')"
   ],
   "outputs": [],
   "metadata": {}
  },
  {
   "cell_type": "code",
   "execution_count": 10,
   "source": [
    "df['mouse_number'] = df['MouseID'].str.split('_').str[0]\r\n",
    "df['Mouse_version'] = df['MouseID'].str.split('_').str[1]"
   ],
   "outputs": [],
   "metadata": {}
  },
  {
   "cell_type": "code",
   "execution_count": 11,
   "source": [
    "#df.head\r\n",
    "\r\n",
    "df.drop(['MouseID'],axis=1,inplace=True)\r\n",
    "df.shape"
   ],
   "outputs": [
    {
     "output_type": "execute_result",
     "data": {
      "text/plain": [
       "(1080, 83)"
      ]
     },
     "metadata": {},
     "execution_count": 11
    }
   ],
   "metadata": {}
  },
  {
   "cell_type": "code",
   "execution_count": 13,
   "source": [
    "##features those have missing values\r\n",
    "#here we have missing values in only numerical features\r\n",
    "for feature in df.columns:\r\n",
    "    if df[feature].isnull().sum()>1:\r\n",
    "        df[feature].fillna(df[feature].median(),inplace=True)"
   ],
   "outputs": [],
   "metadata": {}
  },
  {
   "cell_type": "code",
   "execution_count": 14,
   "source": [
    "df.isnull().sum()"
   ],
   "outputs": [
    {
     "output_type": "execute_result",
     "data": {
      "text/plain": [
       "DYRK1A_N         0\n",
       "ITSN1_N          0\n",
       "BDNF_N           0\n",
       "NR1_N            0\n",
       "NR2A_N           0\n",
       "                ..\n",
       "Treatment        0\n",
       "Behavior         0\n",
       "class            0\n",
       "mouse_number     0\n",
       "Mouse_version    0\n",
       "Length: 83, dtype: int64"
      ]
     },
     "metadata": {},
     "execution_count": 14
    }
   ],
   "metadata": {}
  },
  {
   "cell_type": "code",
   "execution_count": 17,
   "source": [
    "df['Mouse_version'] = df['Mouse_version'].astype(int) "
   ],
   "outputs": [],
   "metadata": {}
  },
  {
   "cell_type": "code",
   "execution_count": 25,
   "source": [
    "##features those have categorical values\r\n",
    "features_with_cv = []\r\n",
    "for feature in df.columns:\r\n",
    "    if df[feature].dtypes=='O':\r\n",
    "        features_with_cv.append(feature)\r\n",
    "features_with_cv = features_with_cv[:3]\r\n",
    "features_with_cv"
   ],
   "outputs": [
    {
     "output_type": "execute_result",
     "data": {
      "text/plain": [
       "['Genotype', 'Treatment', 'Behavior']"
      ]
     },
     "metadata": {},
     "execution_count": 25
    }
   ],
   "metadata": {}
  },
  {
   "cell_type": "code",
   "execution_count": 32,
   "source": [
    "#for i in features_with_cv:\r\n",
    "#    pd.get_dummies(df[i],drop_first=True).head()"
   ],
   "outputs": [],
   "metadata": {}
  },
  {
   "cell_type": "code",
   "execution_count": 33,
   "source": [
    "df.shape"
   ],
   "outputs": [
    {
     "output_type": "execute_result",
     "data": {
      "text/plain": [
       "(1080, 83)"
      ]
     },
     "metadata": {},
     "execution_count": 33
    }
   ],
   "metadata": {}
  }
 ],
 "metadata": {
  "orig_nbformat": 4,
  "language_info": {
   "name": "python",
   "version": "3.7.9",
   "mimetype": "text/x-python",
   "codemirror_mode": {
    "name": "ipython",
    "version": 3
   },
   "pygments_lexer": "ipython3",
   "nbconvert_exporter": "python",
   "file_extension": ".py"
  },
  "kernelspec": {
   "name": "python3",
   "display_name": "Python 3.7.9 64-bit"
  },
  "interpreter": {
   "hash": "d511d14e60272b9a5a77db7218cb138afebb4019e3c80988c29ef279e60c3e26"
  }
 },
 "nbformat": 4,
 "nbformat_minor": 2
}